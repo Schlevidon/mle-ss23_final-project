{
 "cells": [
  {
   "cell_type": "code",
   "execution_count": 1,
   "metadata": {},
   "outputs": [
    {
     "name": "stdout",
     "output_type": "stream",
     "text": [
      "/home/gromovl/Programming/ml_final-project/mle-ss23_final-project\n"
     ]
    }
   ],
   "source": [
    "%cd \"/home/gromovl/Programming/ml_final-project/mle-ss23_final-project\""
   ]
  },
  {
   "cell_type": "markdown",
   "metadata": {},
   "source": [
    "## Test features"
   ]
  },
  {
   "cell_type": "code",
   "execution_count": 8,
   "metadata": {},
   "outputs": [
    {
     "name": "stdout",
     "output_type": "stream",
     "text": [
      "/home/gromovl/Programming/ml_final-project/mle-ss23_final-project\n",
      "Sat Sep 16 13:57:33 2023    profile_sarsa.log\n",
      "\n",
      "         23953457 function calls (23824259 primitive calls) in 36.410 seconds\n",
      "\n",
      "   Ordered by: cumulative time\n",
      "   List reduced from 11692 to 47 due to restriction <'agent_code'>\n",
      "\n",
      "   ncalls  tottime  percall  cumtime  percall filename:lineno(function)\n",
      "    10671    0.308    0.000   20.569    0.002 /home/gromovl/Programming/ml_final-project/mle-ss23_final-project/agent_code/sarsa_agent/model.py:59(state_to_features)\n",
      "     2662    1.038    0.000   16.393    0.006 /home/gromovl/Programming/ml_final-project/mle-ss23_final-project/agent_code/sarsa_agent/callbacks.py:53(act)\n",
      "     2661    0.145    0.000   14.732    0.006 /home/gromovl/Programming/ml_final-project/mle-ss23_final-project/agent_code/sarsa_agent/train.py:31(game_events_occurred)\n",
      "    10671    0.404    0.000   11.939    0.001 /home/gromovl/Programming/ml_final-project/mle-ss23_final-project/agent_code/sarsa_agent/features.py:52(get_coin_feature)\n",
      "    10671    0.394    0.000   10.564    0.001 /home/gromovl/Programming/ml_final-project/mle-ss23_final-project/agent_code/sarsa_agent/features.py:98(find_path_to_target)\n",
      "    13344    1.153    0.000    8.616    0.001 /home/gromovl/Programming/ml_final-project/mle-ss23_final-project/agent_code/sarsa_agent/features.py:181(get_safety_feature)\n",
      "109734/60291    0.557    0.000    4.843    0.000 /home/gromovl/Programming/ml_final-project/mle-ss23_final-project/agent_code/sarsa_agent/features.py:205(find_safe_tile)\n",
      "        1    0.000    0.000    3.764    3.764 /home/gromovl/Programming/ml_final-project/mle-ss23_final-project/agent_code/sarsa_agent/callbacks.py:1(<module>)\n",
      "    62857    1.422    0.000    2.813    0.000 /home/gromovl/Programming/ml_final-project/mle-ss23_final-project/agent_code/sarsa_agent/features.py:265(get_allowed_actions)\n",
      "     2674    0.295    0.000    2.286    0.001 /home/gromovl/Programming/ml_final-project/mle-ss23_final-project/agent_code/sarsa_agent/train.py:115(get_new_events)\n",
      "    62857    1.880    0.000    2.262    0.000 /home/gromovl/Programming/ml_final-project/mle-ss23_final-project/agent_code/sarsa_agent/features.py:242(explosion_map_update)\n",
      "        1    0.000    0.000    1.530    1.530 /home/gromovl/Programming/ml_final-project/mle-ss23_final-project/agent_code/sarsa_agent/model.py:1(<module>)\n",
      "        1    0.000    0.000    1.185    1.185 /home/gromovl/Programming/ml_final-project/mle-ss23_final-project/agent_code/sarsa_agent/helper.py:1(<module>)\n",
      "   183271    0.631    0.000    0.686    0.000 /home/gromovl/Programming/ml_final-project/mle-ss23_final-project/agent_code/sarsa_agent/features.py:156(get_blast_coords)\n",
      "     2673    0.200    0.000    0.516    0.000 /home/gromovl/Programming/ml_final-project/mle-ss23_final-project/agent_code/sarsa_agent/model.py:168(train_step)\n",
      "     7994    0.233    0.000    0.362    0.000 /home/gromovl/Programming/ml_final-project/mle-ss23_final-project/agent_code/sarsa_agent/model.py:48(__call__)\n",
      "     2661    0.246    0.000    0.304    0.000 /home/gromovl/Programming/ml_final-project/mle-ss23_final-project/agent_code/sarsa_agent/helper.py:65(update_step)\n",
      "     2674    0.019    0.000    0.172    0.000 /home/gromovl/Programming/ml_final-project/mle-ss23_final-project/agent_code/sarsa_agent/train.py:169(reward_from_events)\n",
      "       13    0.002    0.000    0.109    0.008 /home/gromovl/Programming/ml_final-project/mle-ss23_final-project/agent_code/sarsa_agent/train.py:59(end_of_round)\n",
      "    10680    0.015    0.000    0.095    0.000 /home/gromovl/Programming/ml_final-project/mle-ss23_final-project/agent_code/sarsa_agent/features.py:141(enemy_in_blast_coords)\n",
      "     2661    0.053    0.000    0.082    0.000 /home/gromovl/Programming/ml_final-project/mle-ss23_final-project/agent_code/sarsa_agent/callbacks.py:95(<listcomp>)\n",
      "    96390    0.070    0.000    0.070    0.000 /home/gromovl/Programming/ml_final-project/mle-ss23_final-project/agent_code/sarsa_agent/features.py:230(pos_update)\n",
      "     2661    0.022    0.000    0.054    0.000 /home/gromovl/Programming/ml_final-project/mle-ss23_final-project/agent_code/sarsa_agent/helper.py:199(get_valid_actions)\n",
      "    62857    0.033    0.000    0.033    0.000 /home/gromovl/Programming/ml_final-project/mle-ss23_final-project/agent_code/sarsa_agent/features.py:247(<listcomp>)\n",
      "    10671    0.021    0.000    0.021    0.000 /home/gromovl/Programming/ml_final-project/mle-ss23_final-project/agent_code/sarsa_agent/features.py:85(get_first_step_from_path)\n",
      "    62857    0.020    0.000    0.020    0.000 /home/gromovl/Programming/ml_final-project/mle-ss23_final-project/agent_code/sarsa_agent/features.py:248(<listcomp>)\n",
      "       13    0.000    0.000    0.017    0.001 /home/gromovl/Programming/ml_final-project/mle-ss23_final-project/agent_code/sarsa_agent/model.py:52(save)\n",
      "    62857    0.017    0.000    0.017    0.000 /home/gromovl/Programming/ml_final-project/mle-ss23_final-project/agent_code/sarsa_agent/features.py:271(<listcomp>)\n",
      "       13    0.000    0.000    0.017    0.001 /home/gromovl/Programming/ml_final-project/mle-ss23_final-project/agent_code/sarsa_agent/helper.py:52(save)\n",
      "    10644    0.015    0.000    0.015    0.000 /home/gromovl/Programming/ml_final-project/mle-ss23_final-project/agent_code/sarsa_agent/helper.py:190(tile_is_free)\n",
      "    10670    0.011    0.000    0.012    0.000 /home/gromovl/Programming/ml_final-project/mle-ss23_final-project/agent_code/sarsa_agent/features.py:117(get_enemy_agent_feature)\n",
      "        1    0.000    0.000    0.004    0.004 /home/gromovl/Programming/ml_final-project/mle-ss23_final-project/agent_code/sarsa_agent/callbacks.py:18(setup)\n",
      "        1    0.000    0.000    0.004    0.004 /home/gromovl/Programming/ml_final-project/mle-ss23_final-project/agent_code/sarsa_agent/features.py:1(<module>)\n",
      "    10671    0.003    0.000    0.003    0.000 /home/gromovl/Programming/ml_final-project/mle-ss23_final-project/agent_code/sarsa_agent/model.py:68(<listcomp>)\n",
      "       13    0.001    0.000    0.001    0.000 /home/gromovl/Programming/ml_final-project/mle-ss23_final-project/agent_code/sarsa_agent/helper.py:83(update_end_of_round)\n",
      "     2674    0.001    0.000    0.001    0.000 /home/gromovl/Programming/ml_final-project/mle-ss23_final-project/agent_code/sarsa_agent/train.py:143(<listcomp>)\n",
      "        1    0.000    0.000    0.001    0.001 /home/gromovl/Programming/ml_final-project/mle-ss23_final-project/agent_code/sarsa_agent/model.py:44(__init__)\n",
      "        1    0.000    0.000    0.001    0.001 /home/gromovl/Programming/ml_final-project/mle-ss23_final-project/agent_code/sarsa_agent/globals.py:1(<module>)\n",
      "        1    0.000    0.000    0.000    0.000 /home/gromovl/Programming/ml_final-project/mle-ss23_final-project/agent_code/sarsa_agent/helper.py:17(__init__)\n",
      "        1    0.000    0.000    0.000    0.000 /home/gromovl/Programming/ml_final-project/mle-ss23_final-project/agent_code/sarsa_agent/train.py:1(<module>)\n",
      "        1    0.000    0.000    0.000    0.000 /home/gromovl/Programming/ml_final-project/mle-ss23_final-project/agent_code/sarsa_agent/globals.py:9(<dictcomp>)\n",
      "        1    0.000    0.000    0.000    0.000 /home/gromovl/Programming/ml_final-project/mle-ss23_final-project/agent_code/sarsa_agent/helper.py:14(<dictcomp>)\n",
      "        1    0.000    0.000    0.000    0.000 /home/gromovl/Programming/ml_final-project/mle-ss23_final-project/agent_code/sarsa_agent/helper.py:16(Stats)\n",
      "        1    0.000    0.000    0.000    0.000 /home/gromovl/Programming/ml_final-project/mle-ss23_final-project/agent_code/sarsa_agent/callbacks_rb.py:1(<module>)\n",
      "        1    0.000    0.000    0.000    0.000 /home/gromovl/Programming/ml_final-project/mle-ss23_final-project/agent_code/sarsa_agent/model.py:28(SarsaTable)\n",
      "        1    0.000    0.000    0.000    0.000 /home/gromovl/Programming/ml_final-project/mle-ss23_final-project/agent_code/sarsa_agent/train.py:16(setup_training)\n",
      "        1    0.000    0.000    0.000    0.000 /home/gromovl/Programming/ml_final-project/mle-ss23_final-project/agent_code/sarsa_agent/model.py:30(get_architecture)\n",
      "\n",
      "\n"
     ]
    },
    {
     "data": {
      "text/plain": [
       "<pstats.Stats at 0x7fa81ef61890>"
      ]
     },
     "execution_count": 8,
     "metadata": {},
     "output_type": "execute_result"
    }
   ],
   "source": [
    "%cd \"/home/gromovl/Programming/ml_final-project/mle-ss23_final-project\"\n",
    "# TODO : matplotlib seems slow?\n",
    "import pstats\n",
    "from pstats import SortKey\n",
    "p = pstats.Stats(\"profile_sarsa.log\")\n",
    "p.sort_stats(SortKey.CUMULATIVE).print_stats(\"agent_code\", 50)"
   ]
  },
  {
   "cell_type": "code",
   "execution_count": 11,
   "metadata": {},
   "outputs": [
    {
     "name": "stdout",
     "output_type": "stream",
     "text": [
      "tensor([[0., 0., 0.],\n",
      "        [0., 0., 0.],\n",
      "        [0., 0., 0.]])\n",
      "tensor([[10.,  0.,  0.],\n",
      "        [ 0.,  0.,  0.],\n",
      "        [ 0.,  0.,  0.]])\n"
     ]
    }
   ],
   "source": [
    "import torch\n",
    "model = torch.zeros((3, 3))\n",
    "print(model)\n",
    "\n",
    "state_dict = {}\n",
    "state_dict[\"model\"] = model\n",
    "\n",
    "def act(state_dict):\n",
    "    state_dict[\"model\"][0, 0] = 10\n",
    "\n",
    "act(state_dict)\n",
    "print(model)"
   ]
  }
 ],
 "metadata": {
  "kernelspec": {
   "display_name": "ml_final-project",
   "language": "python",
   "name": "python3"
  },
  "language_info": {
   "codemirror_mode": {
    "name": "ipython",
    "version": 3
   },
   "file_extension": ".py",
   "mimetype": "text/x-python",
   "name": "python",
   "nbconvert_exporter": "python",
   "pygments_lexer": "ipython3",
   "version": "3.11.4"
  },
  "orig_nbformat": 4
 },
 "nbformat": 4,
 "nbformat_minor": 2
}
