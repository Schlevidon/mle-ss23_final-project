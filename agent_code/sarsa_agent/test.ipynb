{
 "cells": [
  {
   "cell_type": "code",
   "execution_count": 2,
   "metadata": {},
   "outputs": [
    {
     "name": "stdout",
     "output_type": "stream",
     "text": [
      "/home/gromovl/Programming/ml_final-project/mle-ss23_final-project\n"
     ]
    }
   ],
   "source": [
    "%cd \"/home/gromovl/Programming/ml_final-project/mle-ss23_final-project\""
   ]
  },
  {
   "cell_type": "markdown",
   "metadata": {},
   "source": [
    "## Test features"
   ]
  },
  {
   "cell_type": "code",
   "execution_count": 7,
   "metadata": {},
   "outputs": [
    {
     "name": "stdout",
     "output_type": "stream",
     "text": [
      "UP RIGHT DOWN LEFT WAIT\n",
      "RIGHT\n",
      "[[-1 -1 -1 -1 -1 -1 -1 -1 -1 -1 -1 -1 -1 -1 -1 -1 -1]\n",
      " [-1  0  0  0  0  0  0  0  0  0  0  0  0  0  0  0 -1]\n",
      " [-1  0 -1  0 -1  0 -1  0 -1  0 -1  0 -1  0 -1  0 -1]\n",
      " [-1  0  0  0  0  0  0  0  0  0  0  0  0  0  0  0 -1]\n",
      " [-1  0 -1  0 -1  0 -1  9 -1  0 -1  0 -1  0 -1  0 -1]\n",
      " [-1  0  0  0  0  0  0  0  0  0  0  0  0  0  0  0 -1]\n",
      " [-1  0 -1  0 -1  0 -1  0 -1  0 -1  0 -1  0 -1  0 -1]\n",
      " [-1  0  0  0  0  0  0  5  0  0  0  0  0  0  0  0 -1]\n",
      " [-1  0 -1  0 -1  0 -1  1 -1  0 -1  0 -1  0 -1  0 -1]\n",
      " [-1  0  0  0  0  0  1  2  0  0  0  0  0  0  0  0 -1]\n",
      " [-1  0 -1  0 -1  0 -1  0 -1  0 -1  0 -1  0 -1  0 -1]\n",
      " [-1  0  0  0  0  0  0  0  0  0  0  0  0  0  0  0 -1]\n",
      " [-1  0 -1  0 -1  0 -1  0 -1  5 -1  0 -1  0 -1  0 -1]\n",
      " [-1  0  0  0  0  0  0  0  0  0  0  0  0  0  0  0 -1]\n",
      " [-1  0 -1  0 -1  0 -1  0 -1  0 -1  0 -1  0 -1  0 -1]\n",
      " [-1  0  0  0  0  0  0  0  0  0  0  0  0  0  0  0 -1]\n",
      " [-1 -1 -1 -1 -1 -1 -1 -1 -1 -1 -1 -1 -1 -1 -1 -1 -1]]\n"
     ]
    }
   ],
   "source": [
    "import numpy as np\n",
    "from helper import get_safety_feature, get_allowed_actions, get_blast_coords, find_path_to_target, get_coin_feature\n",
    "field = np.full((17, 17), -1) # empty field\n",
    "\n",
    "# Place walls in between\n",
    "aisles = {} #store locations in a dictionary\n",
    "for i in range(1,8):\n",
    "   aisles[2*i-1] = [i for i in range(1,16)] #3,5,7,9,11,13,15\n",
    "   aisles[2*i] = [1,3,5,7,9,11,13,15] #2,4,6,8,10,12,14,16\n",
    "\n",
    "aisles[15] = [i for i in range(1,16)]\n",
    "\n",
    "\n",
    "# Set all walls\n",
    "for row_index in range(1,16):\n",
    "  for column_index in aisles[row_index]:\n",
    "    field[row_index, column_index] = 0\n",
    "\n",
    "#print(np.sum(field == 0))\n",
    "\n",
    "\n",
    "my_x, my_y = agent_pos = (7, 9)\n",
    "\n",
    "explosion_map = np.zeros((17, 17))\n",
    "#explosion_map[my_x - 1, my_y] = 1\n",
    "\n",
    "bombs = [#((agent_pos[0] + 3, agent_pos[1]), 0), \n",
    "         #((agent_pos[0], agent_pos[1] - 2), 1)\n",
    "        ]\n",
    "\n",
    "crates = np.array([(agent_pos[0], agent_pos[1] - 1),\n",
    "                   #(agent_pos[0], agent_pos[1] + 1),\n",
    "                   (agent_pos[0] - 1, agent_pos[1]),\n",
    "                   #(agent_pos[0] + 1, agent_pos[1]),\n",
    "                  ])\n",
    "\n",
    "coins = np.array([(agent_pos[0], agent_pos[1] - 2),\n",
    "                   (agent_pos[0] + 2, agent_pos[1] + 3)])\n",
    "\n",
    "other_agents = np.array([(agent_pos[0], agent_pos[1] - 5)])\n",
    "\n",
    "if len(crates) > 0:\n",
    "  field[tuple(crates.T)] = 1\n",
    "\n",
    "print(\"UP\", \"RIGHT\", \"DOWN\", \"LEFT\", \"WAIT\")\n",
    "#print(\"Safety feature\", get_safety_feature(agent_pos, field, explosion_map, bombs))\n",
    "#path = find_path_to_target(agent_pos, coins[0], field)\n",
    "#print(path[1])\n",
    "coin_feature = get_coin_feature(agent_pos, other_agents, coins, field)\n",
    "print(coin_feature)\n",
    "\n",
    "if len(coins) > 0:\n",
    "  field[tuple(coins.T)] = 5\n",
    "\n",
    "if len(other_agents) > 0:\n",
    "  field[tuple(other_agents.T)] = 9\n",
    "\n",
    "field[agent_pos] = 2\n",
    "\n",
    "field[explosion_map > 0] = 4\n",
    "\n",
    "for bomb in bombs:\n",
    "  b = bomb[0]\n",
    "  field[b] = 6\n",
    "\n",
    "print(field.T)\n"
   ]
  },
  {
   "cell_type": "code",
   "execution_count": 18,
   "metadata": {},
   "outputs": [
    {
     "name": "stdout",
     "output_type": "stream",
     "text": [
      "Table shape torch.Size([5, 2, 2, 2, 2, 2, 2, 6])\n",
      "Number of elements 1920\n",
      "RAM 0.0146484375 MB\n"
     ]
    }
   ],
   "source": [
    "import torch\n",
    "table_path = \"agent_code/qtable_agent/model/my-model.pt\"\n",
    "table = torch.load(table_path)\n",
    "print(f\"Table shape {table.shape}\")\n",
    "print(f\"Number of elements {table.numel()}\")\n",
    "print(f\"RAM {table.numel() * table.element_size() / (2**20)} MB\")"
   ]
  },
  {
   "cell_type": "code",
   "execution_count": 4,
   "metadata": {},
   "outputs": [
    {
     "name": "stdout",
     "output_type": "stream",
     "text": [
      "Explored state ratio: 1058/1920 = 55.10%\n"
     ]
    }
   ],
   "source": [
    "import torch\n",
    "table_stat_path = \"agent_code/qtable_agent/model/my-model_stats.pt\"\n",
    "table_stats = torch.load(table_stat_path)\n",
    "explored_states = (table_stats > 0)\n",
    "n_explored_states = torch.sum(explored_states)\n",
    "print(f\"Explored state ratio: {n_explored_states}/{table_stats.numel()} = {torch.sum(table_stats > 0) / table_stats.numel():.2%}\")"
   ]
  },
  {
   "cell_type": "code",
   "execution_count": 5,
   "metadata": {},
   "outputs": [
    {
     "data": {
      "image/png": "[encoded data removed]",
      "text/plain": [
       "<Figure size 640x480 with 2 Axes>"
      ]
     },
     "metadata": {},
     "output_type": "display_data"
    }
   ],
   "source": [
    "from matplotlib import pyplot as plt\n",
    "import numpy as np\n",
    "state_action_table = table_stats.reshape(-1, 6)\n",
    "s = np.arange(0, state_action_table.shape[0])\n",
    "a = np.arange(0, state_action_table.shape[1])\n",
    "S, A = np.meshgrid(a, s)\n",
    "plt.contourf(S, A, state_action_table)\n",
    "plt.colorbar()\n",
    "\n",
    "plt.show()"
   ]
  },
  {
   "cell_type": "markdown",
   "metadata": {},
   "source": [
    "## Code profiling"
   ]
  },
  {
   "cell_type": "code",
   "execution_count": null,
   "metadata": {},
   "outputs": [],
   "source": [
    "%cd \"/home/gromovl/Programming/ml_final-project/mle-ss23_final-project\"\n",
    "# TODO : matplotlib seems slow?\n",
    "import pstats\n",
    "from pstats import SortKey\n",
    "p = pstats.Stats(\"profile.log\")\n",
    "p.sort_stats(SortKey.CUMULATIVE).print_stats(\"agent_code\", 50)"
   ]
  }
 ],
 "metadata": {
  "kernelspec": {
   "display_name": "ml_final-project",
   "language": "python",
   "name": "python3"
  },
  "language_info": {
   "codemirror_mode": {
    "name": "ipython",
    "version": 3
   },
   "file_extension": ".py",
   "mimetype": "text/x-python",
   "name": "python",
   "nbconvert_exporter": "python",
   "pygments_lexer": "ipython3",
   "version": "3.11.4"
  },
  "orig_nbformat": 4
 },
 "nbformat": 4,
 "nbformat_minor": 2
}
