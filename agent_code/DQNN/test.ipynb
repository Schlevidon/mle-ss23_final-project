{
 "cells": [
  {
   "cell_type": "code",
   "execution_count": 1,
   "metadata": {},
   "outputs": [
    {
     "name": "stdout",
     "output_type": "stream",
     "text": [
      "/home/gromovl/Programming/ml_final-project/mle-ss23_final-project\n"
     ]
    }
   ],
   "source": [
    "%cd \"/home/gromovl/Programming/ml_final-project/mle-ss23_final-project\""
   ]
  },
  {
   "cell_type": "markdown",
   "metadata": {},
   "source": [
    "## Test features"
   ]
  },
  {
   "cell_type": "code",
   "execution_count": null,
   "metadata": {},
   "outputs": [],
   "source": [
    "import numpy as np\n",
    "from features import get_safety_feature, get_allowed_actions, get_blast_coords, find_path_to_target, get_coin_feature, get_enemy_agent_feature\n",
    "field = np.full((17, 17), -1) # empty field\n",
    "\n",
    "# Place walls in between\n",
    "aisles = {} #store locations in a dictionary\n",
    "for i in range(1,8):\n",
    "   aisles[2*i-1] = [i for i in range(1,16)] #3,5,7,9,11,13,15\n",
    "   aisles[2*i] = [1,3,5,7,9,11,13,15] #2,4,6,8,10,12,14,16\n",
    "\n",
    "aisles[15] = [i for i in range(1,16)]\n",
    "\n",
    "\n",
    "# Set all walls\n",
    "for row_index in range(1,16):\n",
    "  for column_index in aisles[row_index]:\n",
    "    field[row_index, column_index] = 0\n",
    "\n",
    "#print(np.sum(field == 0))\n",
    "\n",
    "\n",
    "my_x, my_y = agent_pos = (7, 9)\n",
    "\n",
    "explosion_map = np.zeros((17, 17))\n",
    "#explosion_map[my_x - 1, my_y] = 1\n",
    "\n",
    "bombs = [#((agent_pos[0] + 3, agent_pos[1]), 0), \n",
    "         #((agent_pos[0], agent_pos[1] - 2), 1)\n",
    "        ]\n",
    "\n",
    "crates = np.array([#(agent_pos[0], agent_pos[1] - 1),\n",
    "                   (agent_pos[0], agent_pos[1] + 1),\n",
    "                   (agent_pos[0] - 1, agent_pos[1]),\n",
    "                   (agent_pos[0] + 3, agent_pos[1]),\n",
    "                  ])\n",
    "\n",
    "coins = np.array([(agent_pos[0], agent_pos[1] - 2),\n",
    "                   (agent_pos[0] + 2, agent_pos[1] + 3)])\n",
    "\n",
    "other_agents = np.array([(agent_pos[0], agent_pos[1] - 5)])\n",
    "\n",
    "if len(crates) > 0:\n",
    "  field[tuple(crates.T)] = 1\n",
    "\n",
    "print(\"UP\", \"RIGHT\", \"DOWN\", \"LEFT\", \"WAIT\")\n",
    "#print(\"Safety feature\", get_safety_feature(agent_pos, field, explosion_map, bombs, True))\n",
    "#path = find_path_to_target(agent_pos, coins[0], field)\n",
    "#print(path[1])\n",
    "#coin_feature = get_coin_feature(agent_pos, other_agents, coins, field)\n",
    "#print(coin_feature)\n",
    "print(get_enemy_agent_feature(agent_pos, other_agents, field))\n",
    "\n",
    "if len(coins) > 0:\n",
    "  field[tuple(coins.T)] = 5\n",
    "\n",
    "if len(other_agents) > 0:\n",
    "  field[tuple(other_agents.T)] = 9\n",
    "\n",
    "field[agent_pos] = 2\n",
    "\n",
    "field[explosion_map > 0] = 4\n",
    "\n",
    "for bomb in bombs:\n",
    "  b = bomb[0]\n",
    "  field[b] = 6\n",
    "\n",
    "print(field.T)\n"
   ]
  },
  {
   "cell_type": "markdown",
   "metadata": {},
   "source": [
    "## Code profiling"
   ]
  },
  {
   "cell_type": "code",
   "execution_count": null,
   "metadata": {},
   "outputs": [],
   "source": [
    "%cd \"/home/gromovl/Programming/ml_final-project/mle-ss23_final-project\"\n",
    "# TODO : matplotlib seems slow?\n",
    "import pstats\n",
    "from pstats import SortKey\n",
    "p = pstats.Stats(\"profile.log\")\n",
    "p.sort_stats(SortKey.CUMULATIVE).print_stats(\"agent_code\", 50)"
   ]
  }
 ],
 "metadata": {
  "kernelspec": {
   "display_name": "ml_final-project",
   "language": "python",
   "name": "python3"
  },
  "language_info": {
   "codemirror_mode": {
    "name": "ipython",
    "version": 3
   },
   "file_extension": ".py",
   "mimetype": "text/x-python",
   "name": "python",
   "nbconvert_exporter": "python",
   "pygments_lexer": "ipython3",
   "version": "3.11.4"
  },
  "orig_nbformat": 4
 },
 "nbformat": 4,
 "nbformat_minor": 2
}
