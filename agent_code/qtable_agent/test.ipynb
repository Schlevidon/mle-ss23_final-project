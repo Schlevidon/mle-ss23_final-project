{
 "cells": [
  {
   "cell_type": "code",
   "execution_count": 23,
   "metadata": {},
   "outputs": [
    {
     "name": "stdout",
     "output_type": "stream",
     "text": [
      "tensor([[  1,  10, 200],\n",
      "        [  2,   3,   4]])\n",
      "tensor([[ 1., 10., -inf],\n",
      "        [ 2., -inf, -inf]], dtype=torch.float64)\n",
      "tensor([10.,  2.], dtype=torch.float64)\n"
     ]
    }
   ],
   "source": [
    "import torch\n",
    "import numpy as np\n",
    "t = torch.tensor([[1, 10, 200],[2,3,4]])\n",
    "mask = np.array([[1, 1, -np.infty],[1, -np.infty, -np.infty]])\n",
    "masked_t = t * mask\n",
    "print(t)\n",
    "print(masked_t)\n",
    "max_Q = torch.max(masked_t, 1)[0]\n",
    "print(max_Q)"
   ]
  },
  {
   "cell_type": "code",
   "execution_count": null,
   "metadata": {},
   "outputs": [],
   "source": [
    "data # 6\n",
    "mask # 5 true, false\n",
    "data_valid = data[mask]\n",
    "data_unvalid = data[~mask]\n",
    "\n",
    "tansitions_valid = Transitions[mask]\n",
    "tansitions_unvalid = Transitions[~mask]\n",
    "\n",
    "action_valid = transitions_valid.actterion\n",
    "\n",
    "\n"
   ]
  },
  {
   "cell_type": "code",
   "execution_count": 8,
   "metadata": {},
   "outputs": [
    {
     "name": "stdout",
     "output_type": "stream",
     "text": [
      "[0. 0. 0.]\n"
     ]
    }
   ],
   "source": [
    "import numpy as np\n",
    "table = np.zeros((3, 3, 3))\n",
    "feature = np.array([1, 2])\n",
    "q_values = table[feature]\n",
    "print(q_values)"
   ]
  }
 ],
 "metadata": {
  "kernelspec": {
   "display_name": "ml_final-project",
   "language": "python",
   "name": "python3"
  },
  "language_info": {
   "codemirror_mode": {
    "name": "ipython",
    "version": 3
   },
   "file_extension": ".py",
   "mimetype": "text/x-python",
   "name": "python",
   "nbconvert_exporter": "python",
   "pygments_lexer": "ipython3",
   "version": "3.11.4"
  },
  "orig_nbformat": 4
 },
 "nbformat": 4,
 "nbformat_minor": 2
}
