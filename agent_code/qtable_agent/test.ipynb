{
 "cells": [
  {
   "cell_type": "code",
   "execution_count": null,
   "metadata": {},
   "outputs": [],
   "source": []
  },
  {
   "cell_type": "code",
   "execution_count": null,
   "metadata": {},
   "outputs": [],
   "source": [
    "data # 6\n",
    "mask # 5 true, false\n",
    "data_valid = data[mask]\n",
    "data_unvalid = data[~mask]\n",
    "\n",
    "tansitions_valid = Transitions[mask]\n",
    "tansitions_unvalid = Transitions[~mask]\n",
    "\n",
    "action_valid = transitions_valid.actterion\n",
    "\n",
    "\n"
   ]
  },
  {
   "cell_type": "code",
   "execution_count": null,
   "metadata": {},
   "outputs": [],
   "source": [
    "import numpy as np\n",
    "import torch\n",
    "table = torch.zeros((3, 3, 3))\n",
    "feature = torch.tensor([1, 2]) # old_state\n",
    "q_values = table[*feature]\n",
    "print(q_values)"
   ]
  },
  {
   "cell_type": "code",
   "execution_count": null,
   "metadata": {},
   "outputs": [],
   "source": [
    "import torch\n",
    "PATH = \"model/my-model_stats.pt\"\n",
    "table = torch.load(PATH)\n",
    "print(table.shape)\n",
    "print(torch.sum(table > 0))"
   ]
  },
  {
   "cell_type": "code",
   "execution_count": 1,
   "metadata": {},
   "outputs": [
    {
     "name": "stdout",
     "output_type": "stream",
     "text": [
      "/home/gromovl/Programming/ml_final-project/mle-ss23_final-project\n"
     ]
    }
   ],
   "source": [
    "%cd \"/home/gromovl/Programming/ml_final-project/mle-ss23_final-project\""
   ]
  },
  {
   "cell_type": "code",
   "execution_count": 5,
   "metadata": {},
   "outputs": [
    {
     "name": "stdout",
     "output_type": "stream",
     "text": [
      "176\n",
      "UP RIGHT DOWN LEFT WAIT\n",
      "Field feature tensor([1, 3, 1, 1, 0])\n",
      "Safety feature tensor([0, 0, 0, 0, 0])\n",
      "[[-1 -1 -1 -1 -1 -1 -1 -1 -1 -1 -1 -1 -1 -1 -1 -1 -1]\n",
      " [ 1  0  0  0  0  0  0  0  0  0  0  0  0  0  0  0 -1]\n",
      " [-1  0 -1  0 -1  0 -1  0 -1  0 -1  0 -1  0 -1  0 -1]\n",
      " [-1  0  0  0  0  0  0  0  0  0  0  0  0  0  0  0 -1]\n",
      " [-1  0 -1  0 -1  0 -1  0 -1  0 -1  0 -1  0 -1  0 -1]\n",
      " [-1  0  0  0  0  0  0  0  0  0  0  0  0  0  0  0 -1]\n",
      " [-1  0 -1  0 -1  0 -1  0 -1  0 -1  0 -1  0 -1  0 -1]\n",
      " [-1  0  0  0  0  0  0  0  0  0  0  0  0  0  0  0 -1]\n",
      " [-1  0 -1  0 -1  0 -1  1 -1  0 -1  0 -1  0 -1  0 -1]\n",
      " [-1  0  0  0  0  0  1  2  6  0  0  0  0  0  0  0 -1]\n",
      " [-1  0 -1  0 -1  0 -1  1 -1  0 -1  0 -1  0 -1  0 -1]\n",
      " [-1  0  0  0  0  0  0  0  0  0  0  0  0  0  0  0 -1]\n",
      " [-1  0 -1  0 -1  0 -1  0 -1  0 -1  0 -1  0 -1  0 -1]\n",
      " [-1  0  0  0  0  0  0  0  0  0  0  0  0  0  0  0 -1]\n",
      " [-1  0 -1  0 -1  0 -1  0 -1  0 -1  0 -1  0 -1  0 -1]\n",
      " [-1  0  0  0  0  0  0  0  0  0  0  0  0  0  0  0 -1]\n",
      " [-1 -1 -1 -1 -1 -1 -1 -1 -1 -1 -1 -1 -1 -1 -1 -1 -1]]\n"
     ]
    }
   ],
   "source": [
    "import numpy as np\n",
    "from helper import get_safety_feature, get_field_feature, get_blast_coords\n",
    "field = np.full((17, 17), -1) # empty field\n",
    "\n",
    "# Place walls in between\n",
    "aisles = {} #store locations in a dictionary\n",
    "for i in range(1,8):\n",
    "   aisles[2*i-1] = [i for i in range(1,16)] #3,5,7,9,11,13,15\n",
    "   aisles[2*i] = [1,3,5,7,9,11,13,15] #2,4,6,8,10,12,14,16\n",
    "\n",
    "aisles[15] = [i for i in range(1,16)]\n",
    "\n",
    "\n",
    "# Set all walls\n",
    "for row_index in range(1,16):\n",
    "  for column_index in aisles[row_index]:\n",
    "    field[row_index, column_index] = 0\n",
    "\n",
    "#print(np.sum(field == 0))\n",
    "\n",
    "\n",
    "agent_pos = (7, 9)\n",
    "\n",
    "explosion_map = np.zeros((17, 17))\n",
    "\n",
    "bombs = [((agent_pos[0] + 1, agent_pos[1]), 3), \n",
    "         #((agent_pos[0], agent_pos[1] - 2), 1)\n",
    "        ]\n",
    "\n",
    "crates = np.array([(agent_pos[0], agent_pos[1] - 1),\n",
    "          (agent_pos[0], agent_pos[1] + 1),\n",
    "          (agent_pos[0] - 1, agent_pos[1]),])\n",
    "\n",
    "field[tuple(crates.T)] = 1\n",
    "\n",
    "print(\"UP\", \"RIGHT\", \"DOWN\", \"LEFT\", \"WAIT\")\n",
    "print(\"Field feature\", get_field_feature(agent_pos, field, explosion_map, bombs) - 1)\n",
    "print(\"Safety feature\", get_safety_feature(agent_pos, field, explosion_map, bombs))\n",
    "\n",
    "field[agent_pos] = 2\n",
    "bomb_coords = bombs[0][0]#[bomb[0] for bomb in bombs]\n",
    "for bomb in bombs:\n",
    "  b = bomb[0]\n",
    "  field[b] = 6\n",
    "my_x, my_y = agent_pos[0], agent_pos[1]\n",
    "field[0,1] = 1\n",
    "print(field.T)\n"
   ]
  },
  {
   "cell_type": "code",
   "execution_count": 3,
   "metadata": {},
   "outputs": [
    {
     "name": "stdout",
     "output_type": "stream",
     "text": [
      "171\n"
     ]
    }
   ],
   "source": []
  },
  {
   "cell_type": "code",
   "execution_count": 8,
   "metadata": {},
   "outputs": [
    {
     "name": "stdout",
     "output_type": "stream",
     "text": [
      "Table shape torch.Size([2, 2, 2, 2, 2, 2, 2, 2, 2, 2, 2, 2, 2, 2, 6])\n",
      "Number of elements 98304\n",
      "RAM 0.75 MB\n"
     ]
    }
   ],
   "source": [
    "import torch\n",
    "table_path = \"model/my-model.pt\"\n",
    "table = torch.load(table_path)\n",
    "print(f\"Table shape {table.shape}\")\n",
    "print(f\"Number of elements {table.numel()}\")\n",
    "print(f\"RAM {table.numel() * table.element_size() / (2**20)} MB\")"
   ]
  },
  {
   "cell_type": "code",
   "execution_count": 20,
   "metadata": {},
   "outputs": [
    {
     "name": "stdout",
     "output_type": "stream",
     "text": [
      "Explored state ratio: 0.84%\n"
     ]
    }
   ],
   "source": [
    "import torch\n",
    "table_stat_path = \"model/my-model_stats.pt\"\n",
    "table_stats = torch.load(table_stat_path)\n",
    "print(f\"Explored state ratio: {torch.sum(table_stats > 0) / table_stats.numel():.2%}\")"
   ]
  }
 ],
 "metadata": {
  "kernelspec": {
   "display_name": "ml_final-project",
   "language": "python",
   "name": "python3"
  },
  "language_info": {
   "codemirror_mode": {
    "name": "ipython",
    "version": 3
   },
   "file_extension": ".py",
   "mimetype": "text/x-python",
   "name": "python",
   "nbconvert_exporter": "python",
   "pygments_lexer": "ipython3",
   "version": "3.11.4"
  },
  "orig_nbformat": 4
 },
 "nbformat": 4,
 "nbformat_minor": 2
}
