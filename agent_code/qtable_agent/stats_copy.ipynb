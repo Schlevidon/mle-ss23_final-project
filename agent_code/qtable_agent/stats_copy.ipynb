{
 "cells": [
  {
   "cell_type": "code",
   "execution_count": null,
   "metadata": {},
   "outputs": [],
   "source": [
    "import os\n",
    "import pickle\n",
    "\n",
    "import pandas as pd\n",
    "import numpy as np\n",
    "\n",
    "from matplotlib import pyplot as plt\n",
    "import sys\n",
    "from helper import Stats\n",
    "\n",
    "#stat_dir = \"agent_code/sarsa_agent/stats/2023-09-15_18-10-39-491223.pkl\"\n",
    "\n",
    "\n",
    "here = os.getcwd().replace('\\\\','/')\n",
    "print(here)\n",
    "\n",
    "sys.path.append('/'.join(here.split('/')[:-2]))\n",
    "filename = 'stats/2023-09-15_18-10-39-491223.pkl'\n",
    "stat_dir = '/'.join((here, filename))\n",
    "\n",
    "\n",
    "with open(stat_dir, \"rb\") as file:\n",
    "    stats = pickle.load(file)\n",
    "\n",
    "round_rewards = pd.DataFrame(stats.round_reward_history)\n",
    "round_means = round_rewards.rolling(min_periods=None, window=20).mean()\n",
    "\n",
    "plt.plot(round_means)\n",
    "#conv = np.convolve(round_rewards.to_numpy().squeeze(), np.ones(20)/20, mode='valid')\n",
    "#plt.plot(conv)\n"
   ]
  },
  {
   "cell_type": "code",
   "execution_count": null,
   "metadata": {},
   "outputs": [],
   "source": [
    "round_length = stats.round_length_history\n",
    "plt.plot(round_length)"
   ]
  },
  {
   "cell_type": "code",
   "execution_count": null,
   "metadata": {},
   "outputs": [],
   "source": [
    "import torch\n",
    "\n",
    "table_stats = stats.table_exploration\n",
    "explored_states = (table_stats > 0)\n",
    "n_explored_states = torch.sum(explored_states)\n",
    "print(f\"Explored state ratio: {n_explored_states}/{table_stats.numel()} = {torch.sum(table_stats > 0) / table_stats.numel():.2%}\")"
   ]
  },
  {
   "cell_type": "code",
   "execution_count": null,
   "metadata": {},
   "outputs": [],
   "source": [
    "from matplotlib import pyplot as plt\n",
    "import numpy as np\n",
    "\n",
    "state_action_table = table_stats.reshape(-1, 6)\n",
    "s = np.arange(0, state_action_table.shape[0])\n",
    "a = np.arange(0, state_action_table.shape[1])\n",
    "S, A = np.meshgrid(a, s)\n",
    "plt.contourf(S, A, state_action_table)\n",
    "plt.colorbar()\n",
    "\n",
    "plt.show()"
   ]
  },
  {
   "cell_type": "code",
   "execution_count": 34,
   "metadata": {},
   "outputs": [
    {
     "data": {
      "text/plain": [
       "tensor(0.2958)"
      ]
     },
     "execution_count": 34,
     "metadata": {},
     "output_type": "execute_result"
    }
   ],
   "source": [
    "import torch\n",
    "PATH = \"./model/my-model.pt\"\n",
    "table = torch.load(PATH)\n",
    "non_zero = torch.count_nonzero(table)\n",
    "total = torch.numel(table)\n",
    "non_zero/total"
   ]
  },
  {
   "cell_type": "code",
   "execution_count": 26,
   "metadata": {},
   "outputs": [
    {
     "name": "stderr",
     "output_type": "stream",
     "text": [
      "C:\\Users\\User\\AppData\\Local\\Temp\\ipykernel_13616\\575678031.py:2: UserWarning: Implicit dimension choice for softmax has been deprecated. Change the call to include dim=X as an argument.\n",
      "  torch.nn.functional.softmax(Q_values)\n"
     ]
    },
    {
     "data": {
      "text/plain": [
       "tensor([1.0000e+00, 3.7835e-44, 0.0000e+00, 1.9287e-22, 9.1028e-42, 4.2039e-44])"
      ]
     },
     "execution_count": 26,
     "metadata": {},
     "output_type": "execute_result"
    }
   ],
   "source": [
    "Q_values = torch.tensor([100, 0, -22, 50, 5.5, 0.12])\n",
    "torch.nn.functional.softmax(Q_values)"
   ]
  }
 ],
 "metadata": {
  "kernelspec": {
   "display_name": "ml_final-project",
   "language": "python",
   "name": "python3"
  },
  "language_info": {
   "codemirror_mode": {
    "name": "ipython",
    "version": 3
   },
   "file_extension": ".py",
   "mimetype": "text/x-python",
   "name": "python",
   "nbconvert_exporter": "python",
   "pygments_lexer": "ipython3",
   "version": "3.9.13"
  },
  "orig_nbformat": 4
 },
 "nbformat": 4,
 "nbformat_minor": 2
}
