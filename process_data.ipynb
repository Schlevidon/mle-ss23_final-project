{
 "cells": [
  {
   "cell_type": "code",
   "execution_count": null,
   "metadata": {},
   "outputs": [],
   "source": [
    "import os\n",
    "import json\n",
    "PATH = 'results'\n",
    "here = os.getcwd().replace('\\\\','/')\n",
    "target_folder = '/'.join((here,PATH))\n",
    "files = [file for file in os.listdir(target_folder) if file.endswith('.json')]\n",
    "for file in files:\n",
    "    print(file)\n",
    "    file_path = '/'.join((target_folder,file))\n",
    "    with open(file_path)as f:\n",
    "        data = json.load(f)\n",
    "    print(data)"
   ]
  },
  {
   "cell_type": "code",
   "execution_count": null,
   "metadata": {},
   "outputs": [],
   "source": [
    "import pandas as pd\n",
    "import numpy as np\n",
    "file = 'round1.pkl'\n",
    "data = pd.read_pickle(file)\n",
    "print(data.columns)\n",
    "data.head(10)"
   ]
  },
  {
   "cell_type": "code",
   "execution_count": 13,
   "metadata": {},
   "outputs": [
    {
     "data": {
      "text/plain": [
       "[(15, 14), (15, 15), (15, 13), (15, 12), (15, 11)]"
      ]
     },
     "execution_count": 13,
     "metadata": {},
     "output_type": "execute_result"
    }
   ],
   "source": [
    "get_blast_coords(15,14,data['field'][0])"
   ]
  },
  {
   "cell_type": "code",
   "execution_count": 14,
   "metadata": {},
   "outputs": [
    {
     "name": "stdout",
     "output_type": "stream",
     "text": [
      "[((1, 14), 2), ((1, 2), 2), ((15, 14), 2), ((14, 1), 2)]\n",
      "14 4\n",
      "2 4\n",
      "28 4\n",
      "14 4\n",
      "operations: 29 path length: 14\n",
      "+-----------------+\n",
      "|#################|\n",
      "|#s####          #|\n",
      "|#x# # # # # # # #|\n",
      "|#xxxxxxxxxxxe   #|\n",
      "|# # # # # # # # #|\n",
      "|#               #|\n",
      "|# # # # # # # # #|\n",
      "|#               #|\n",
      "|# # # # # # # # #|\n",
      "|#               #|\n",
      "|# # # # # # # # #|\n",
      "|#               #|\n",
      "|# # # # # # # # #|\n",
      "|#               #|\n",
      "|# # # # # # # # #|\n",
      "|#               #|\n",
      "|#################|\n",
      "+-----------------+\n"
     ]
    }
   ],
   "source": [
    "from pathfinding.core.grid import Grid\n",
    "from pathfinding.finder.a_star import AStarFinder\n",
    "\n",
    "field = data['field'][3].copy()\n",
    "bombs = data['bombs'][3].copy()\n",
    "print(bombs)\n",
    "\n",
    "field[field==1] = 2\n",
    "field[field==0] = 1\n",
    "\n",
    "grid = Grid(matrix=field)\n",
    "start = grid.node(1, 1)\n",
    "end_bombs = [grid.node(bomb[0][0],bomb[0][1]) for bomb in bombs]\n",
    "\n",
    "\n",
    "finder = AStarFinder()\n",
    "for (end,bomb) in zip(end_bombs, bombs):\n",
    "    path, runs = finder.find_path(start, end, grid)\n",
    "    bomb_timer = bomb[1]\n",
    "    print(len(path),bomb_timer+2)\n",
    "    \n",
    "    if len(path)<=bomb_timer+2:\n",
    "        for pos in get_blast_coords(end.x, end.y,field):\n",
    "            field [pos[0],pos[1]] =-1\n",
    "    grid.cleanup()\n",
    "\n",
    "#print(field.T[::-1])\n",
    "grid = Grid(matrix=field)\n",
    "start = grid.node(1, 1)\n",
    "end = grid.node(12,3)\n",
    "\n",
    "finder = AStarFinder()\n",
    "\n",
    "path, runs = finder.find_path(start, end, grid)\n",
    "print('operations:', runs, 'path length:', len(path))\n",
    "print(grid.grid_str(path=path, start=start, end=end))"
   ]
  },
  {
   "cell_type": "code",
   "execution_count": 23,
   "metadata": {},
   "outputs": [
    {
     "name": "stdout",
     "output_type": "stream",
     "text": [
      "operations: 144 path length: 24\n",
      "+-----------------+\n",
      "|#################|\n",
      "|#sxxxx          #|\n",
      "|# # #x# # # # # #|\n",
      "|#    x          #|\n",
      "|# # #x# # # # # #|\n",
      "|#    xxx        #|\n",
      "|# # # #x# # # # #|\n",
      "|#      xxx      #|\n",
      "|# # # # #x# # # #|\n",
      "|#        x      #|\n",
      "|# # # # #x# # # #|\n",
      "|#        x      #|\n",
      "|# # # # #x# # # #|\n",
      "|#        xxxe   #|\n",
      "|# # # # # # # # #|\n",
      "|#               #|\n",
      "|#################|\n",
      "+-----------------+\n"
     ]
    }
   ],
   "source": [
    "field = data['field'][3].copy()\n",
    "field[field==1] = 2\n",
    "field[field==0] = 1\n",
    "\n",
    "grid = Grid(matrix=field)\n",
    "start = grid.node(1, 1)\n",
    "end = grid.node(12,13)\n",
    "\n",
    "finder = AStarFinder()\n",
    "\n",
    "path, runs = finder.find_path(start, end, grid)\n",
    "print('operations:', runs, 'path length:', len(path))\n",
    "print(grid.grid_str(path=path, start=start, end=end))"
   ]
  },
  {
   "cell_type": "markdown",
   "metadata": {},
   "source": [
    "21.08.23\n"
   ]
  },
  {
   "cell_type": "code",
   "execution_count": 25,
   "metadata": {},
   "outputs": [
    {
     "name": "stdout",
     "output_type": "stream",
     "text": [
      "c:\\Users\\User\\Documents\\Studium\\Machine Learning\\Machine Learning Essentials\\Submissions\\Project\\git\\mle-ss23_final-project\\training_data\n"
     ]
    }
   ],
   "source": [
    "cd .."
   ]
  },
  {
   "cell_type": "code",
   "execution_count": 26,
   "metadata": {},
   "outputs": [
    {
     "name": "stdout",
     "output_type": "stream",
     "text": [
      "c:\\Users\\User\\Documents\\Studium\\Machine Learning\\Machine Learning Essentials\\Submissions\\Project\\git\\mle-ss23_final-project\\training_data\\2023-08-21_18-01-15-556240\n"
     ]
    }
   ],
   "source": [
    "cd 2023-08-21_18-01-15-556240"
   ]
  },
  {
   "cell_type": "code",
   "execution_count": 36,
   "metadata": {},
   "outputs": [
    {
     "name": "stdout",
     "output_type": "stream",
     "text": [
      "   round  step                                              field  \\\n",
      "0      1     1  [[-1, -1, -1, -1, -1, -1, -1, -1, -1, -1, -1, ...   \n",
      "1      1     2  [[-1, -1, -1, -1, -1, -1, -1, -1, -1, -1, -1, ...   \n",
      "\n",
      "                                      agents bombs  \\\n",
      "0  [(coin_learning_agent, 0, True, (1, 15))]    []   \n",
      "1  [(coin_learning_agent, 0, True, (1, 15))]    []   \n",
      "\n",
      "                                               coins  \\\n",
      "0  [(9, 13), (13, 9), (4, 9), (5, 10), (3, 3), (1...   \n",
      "1  [(9, 13), (13, 9), (4, 9), (5, 10), (3, 3), (1...   \n",
      "\n",
      "                                       explosion_map  \n",
      "0  [[0.0, 0.0, 0.0, 0.0, 0.0, 0.0, 0.0, 0.0, 0.0,...  \n",
      "1  [[0.0, 0.0, 0.0, 0.0, 0.0, 0.0, 0.0, 0.0, 0.0,...  \n"
     ]
    },
    {
     "data": {
      "text/plain": [
       "[(9, 13),\n",
       " (13, 9),\n",
       " (4, 9),\n",
       " (5, 10),\n",
       " (3, 3),\n",
       " (15, 10),\n",
       " (10, 13),\n",
       " (15, 8),\n",
       " (15, 13),\n",
       " (14, 7),\n",
       " (11, 5),\n",
       " (3, 2),\n",
       " (1, 6),\n",
       " (11, 14),\n",
       " (11, 2),\n",
       " (11, 4),\n",
       " (5, 7),\n",
       " (5, 3),\n",
       " (15, 14),\n",
       " (6, 13),\n",
       " (15, 7),\n",
       " (9, 10),\n",
       " (2, 11),\n",
       " (3, 12),\n",
       " (11, 8),\n",
       " (7, 7),\n",
       " (7, 1),\n",
       " (3, 5),\n",
       " (1, 1),\n",
       " (2, 13),\n",
       " (8, 9),\n",
       " (6, 15),\n",
       " (9, 7),\n",
       " (3, 6),\n",
       " (7, 2),\n",
       " (11, 10),\n",
       " (11, 13),\n",
       " (15, 6),\n",
       " (1, 9),\n",
       " (10, 3),\n",
       " (6, 7),\n",
       " (9, 15),\n",
       " (8, 11),\n",
       " (10, 11),\n",
       " (3, 13),\n",
       " (1, 13),\n",
       " (9, 1),\n",
       " (15, 4),\n",
       " (3, 11),\n",
       " (13, 4)]"
      ]
     },
     "execution_count": 36,
     "metadata": {},
     "output_type": "execute_result"
    }
   ],
   "source": [
    "game_state = pd.read_pickle('round1.pkl')\n",
    "print(game_state.head(2))\n",
    "game_state['coins'][0]"
   ]
  },
  {
   "cell_type": "code",
   "execution_count": 43,
   "metadata": {},
   "outputs": [
    {
     "data": {
      "text/plain": [
       "(1, 15)"
      ]
     },
     "execution_count": 43,
     "metadata": {},
     "output_type": "execute_result"
    }
   ],
   "source": [
    "game_state['agents'][0][0][3]"
   ]
  },
  {
   "cell_type": "code",
   "execution_count": 66,
   "metadata": {},
   "outputs": [
    {
     "name": "stdout",
     "output_type": "stream",
     "text": [
      "operations: 120 path length: 24\n",
      "+-----------------+\n",
      "|#################|\n",
      "|#               #|\n",
      "|# # # # # # # # #|\n",
      "|#               #|\n",
      "|# # # # # # #e# #|\n",
      "|#          xxx  #|\n",
      "|# # # # # #x# # #|\n",
      "|#          x    #|\n",
      "|# # # # # #x# # #|\n",
      "|#          x    #|\n",
      "|# # # # # #x# # #|\n",
      "|#xxxxxxxxxxx    #|\n",
      "|#x# # # # # # # #|\n",
      "|#x              #|\n",
      "|#x# # # # # # # #|\n",
      "|#s              #|\n",
      "|#################|\n",
      "+-----------------+\n"
     ]
    }
   ],
   "source": [
    "from pathfinding.core.grid import Grid\n",
    "from pathfinding.finder.a_star import AStarFinder\n",
    "\n",
    "def find_ideal_path(pos_agent, pos_coin, field=None, bombs=None, explosion_map=None):\n",
    "    \n",
    "    field[field==1] = 2\n",
    "    field[field==0] = 1\n",
    "    grid = Grid(matrix=field)\n",
    "    finder = AStarFinder()\n",
    "\n",
    "    sx, sy = pos_agent\n",
    "    start = grid.node(sx, sy)\n",
    "\n",
    "    lengths = []\n",
    "    for coin in pos_coin:\n",
    "        cx, cy = coin\n",
    "        end = grid.node(cx,cy)\n",
    "        path, runs = finder.find_path(start, end, grid)\n",
    "        grid.cleanup()\n",
    "        lengths.append((len(path),path))\n",
    "\n",
    "    print('operations:', runs, 'path length:', len(path))\n",
    "    print(grid.grid_str(path=path, start=start, end=end))\n",
    "\n",
    "    lengths = sorted(lengths,key=lambda c : c[0])\n",
    "    step0 = lengths[0][1][0]\n",
    "    step1 = lengths[0][1][1]\n",
    "\n",
    "    diff = np.array([step1.x,step1.y]) - np.array([step0.x,step0.y])\n",
    "\n",
    "    if diff[0]==0:\n",
    "        if diff[1]==1:\n",
    "            move = 'UP'\n",
    "        else:\n",
    "            move = 'DOWN'\n",
    "\n",
    "    elif diff[0]==1:\n",
    "        move = 'RIGHT'\n",
    "    else:\n",
    "        move = 'LEFT'\n",
    "\n",
    "    return move\n",
    "\n",
    "\n",
    "\n",
    "field = data['field'][0].copy()\n",
    "bombs = data['bombs'][0].copy()\n",
    "pos_agent = game_state['agents'][0][0][3]\n",
    "positions_coins = game_state['coins'][0]\n",
    "\n",
    "step0,step1 =find_ideal_path(pos_agent, positions_coins, field)\n",
    "\n"
   ]
  },
  {
   "cell_type": "code",
   "execution_count": 68,
   "metadata": {},
   "outputs": [
    {
     "data": {
      "text/plain": [
       "((1, 15),\n",
       " GridNode(x=1, y=15, walkable=True, weight=1, grid_id=None, connections=None),\n",
       " GridNode(x=1, y=14, walkable=True, weight=1, grid_id=None, connections=None))"
      ]
     },
     "execution_count": 68,
     "metadata": {},
     "output_type": "execute_result"
    }
   ],
   "source": [
    "\n",
    "pos_agent,step0, step1"
   ]
  },
  {
   "cell_type": "code",
   "execution_count": 74,
   "metadata": {},
   "outputs": [
    {
     "data": {
      "text/plain": [
       "array([ 0, -1])"
      ]
     },
     "execution_count": 74,
     "metadata": {},
     "output_type": "execute_result"
    }
   ],
   "source": []
  }
 ],
 "metadata": {
  "kernelspec": {
   "display_name": "base",
   "language": "python",
   "name": "python3"
  },
  "language_info": {
   "codemirror_mode": {
    "name": "ipython",
    "version": 3
   },
   "file_extension": ".py",
   "mimetype": "text/x-python",
   "name": "python",
   "nbconvert_exporter": "python",
   "pygments_lexer": "ipython3",
   "version": "3.11.4"
  },
  "orig_nbformat": 4
 },
 "nbformat": 4,
 "nbformat_minor": 2
}
