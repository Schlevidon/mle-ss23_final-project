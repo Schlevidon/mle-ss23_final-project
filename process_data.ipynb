{
 "cells": [
  {
   "cell_type": "code",
   "execution_count": 1,
   "metadata": {},
   "outputs": [
    {
     "name": "stdout",
     "output_type": "stream",
     "text": [
      "c:\\Users\\User\\Documents\\Studium\\Machine Learning\\Machine Learning Essentials\\Submissions\\Project\\git\\mle-ss23_final-project\\training_data\n"
     ]
    }
   ],
   "source": [
    "cd training_data"
   ]
  },
  {
   "cell_type": "code",
   "execution_count": 2,
   "metadata": {},
   "outputs": [
    {
     "name": "stdout",
     "output_type": "stream",
     "text": [
      "c:\\Users\\User\\Documents\\Studium\\Machine Learning\\Machine Learning Essentials\\Submissions\\Project\\git\\mle-ss23_final-project\\training_data\\2023-08-19_16-16-06-636156\n"
     ]
    }
   ],
   "source": [
    "cd 2023-08-19_16-16-06-636156"
   ]
  },
  {
   "cell_type": "code",
   "execution_count": 3,
   "metadata": {},
   "outputs": [
    {
     "name": "stdout",
     "output_type": "stream",
     "text": [
      " Datentr�ger in Laufwerk C: ist Win10-Prof\n",
      " Volumeseriennummer: BADD-6E6D\n",
      "\n",
      " Verzeichnis von c:\\Users\\User\\Documents\\Studium\\Machine Learning\\Machine Learning Essentials\\Submissions\\Project\\git\\mle-ss23_final-project\\training_data\\2023-08-19_16-16-06-636156\n",
      "\n",
      "19.08.2023  16:16    <DIR>          .\n",
      "19.08.2023  16:16    <DIR>          ..\n",
      "19.08.2023  16:16         1.479.960 round1.pkl\n",
      "19.08.2023  16:16           806.600 round10.pkl\n",
      "19.08.2023  16:16           939.779 round2.pkl\n",
      "19.08.2023  16:16         1.258.129 round3.pkl\n",
      "19.08.2023  16:16         1.465.222 round4.pkl\n",
      "19.08.2023  16:16         1.472.372 round5.pkl\n",
      "19.08.2023  16:16         1.388.630 round6.pkl\n",
      "19.08.2023  16:16         1.079.995 round7.pkl\n",
      "19.08.2023  16:16         1.468.988 round8.pkl\n",
      "19.08.2023  16:16         1.093.479 round9.pkl\n",
      "              10 Datei(en),     12.453.154 Bytes\n",
      "               2 Verzeichnis(se), 147.673.223.168 Bytes frei\n"
     ]
    }
   ],
   "source": [
    "ls"
   ]
  },
  {
   "cell_type": "code",
   "execution_count": 62,
   "metadata": {},
   "outputs": [
    {
     "name": "stdout",
     "output_type": "stream",
     "text": [
      "Index(['round', 'step', 'field', 'agents', 'bombs', 'coins', 'explosion_map'], dtype='object')\n"
     ]
    },
    {
     "data": {
      "text/html": [
       "<div>\n",
       "<style scoped>\n",
       "    .dataframe tbody tr th:only-of-type {\n",
       "        vertical-align: middle;\n",
       "    }\n",
       "\n",
       "    .dataframe tbody tr th {\n",
       "        vertical-align: top;\n",
       "    }\n",
       "\n",
       "    .dataframe thead th {\n",
       "        text-align: right;\n",
       "    }\n",
       "</style>\n",
       "<table border=\"1\" class=\"dataframe\">\n",
       "  <thead>\n",
       "    <tr style=\"text-align: right;\">\n",
       "      <th></th>\n",
       "      <th>round</th>\n",
       "      <th>step</th>\n",
       "      <th>field</th>\n",
       "      <th>agents</th>\n",
       "      <th>bombs</th>\n",
       "      <th>coins</th>\n",
       "      <th>explosion_map</th>\n",
       "    </tr>\n",
       "  </thead>\n",
       "  <tbody>\n",
       "    <tr>\n",
       "      <th>0</th>\n",
       "      <td>1</td>\n",
       "      <td>1</td>\n",
       "      <td>[[-1, -1, -1, -1, -1, -1, -1, -1, -1, -1, -1, ...</td>\n",
       "      <td>[(rule_based_agent_0, 0, True, (15, 1)), (rule...</td>\n",
       "      <td>[]</td>\n",
       "      <td>[]</td>\n",
       "      <td>[[0.0, 0.0, 0.0, 0.0, 0.0, 0.0, 0.0, 0.0, 0.0,...</td>\n",
       "    </tr>\n",
       "    <tr>\n",
       "      <th>1</th>\n",
       "      <td>1</td>\n",
       "      <td>2</td>\n",
       "      <td>[[-1, -1, -1, -1, -1, -1, -1, -1, -1, -1, -1, ...</td>\n",
       "      <td>[(rule_based_agent_0, 0, True, (14, 1)), (rule...</td>\n",
       "      <td>[]</td>\n",
       "      <td>[]</td>\n",
       "      <td>[[0.0, 0.0, 0.0, 0.0, 0.0, 0.0, 0.0, 0.0, 0.0,...</td>\n",
       "    </tr>\n",
       "    <tr>\n",
       "      <th>2</th>\n",
       "      <td>1</td>\n",
       "      <td>3</td>\n",
       "      <td>[[-1, -1, -1, -1, -1, -1, -1, -1, -1, -1, -1, ...</td>\n",
       "      <td>[(rule_based_agent_0, 0, False, (14, 1)), (rul...</td>\n",
       "      <td>[((1, 14), 3), ((1, 2), 3), ((15, 14), 3), ((1...</td>\n",
       "      <td>[]</td>\n",
       "      <td>[[0.0, 0.0, 0.0, 0.0, 0.0, 0.0, 0.0, 0.0, 0.0,...</td>\n",
       "    </tr>\n",
       "    <tr>\n",
       "      <th>3</th>\n",
       "      <td>1</td>\n",
       "      <td>4</td>\n",
       "      <td>[[-1, -1, -1, -1, -1, -1, -1, -1, -1, -1, -1, ...</td>\n",
       "      <td>[(rule_based_agent_0, 0, False, (15, 1)), (rul...</td>\n",
       "      <td>[((1, 14), 2), ((1, 2), 2), ((15, 14), 2), ((1...</td>\n",
       "      <td>[]</td>\n",
       "      <td>[[0.0, 0.0, 0.0, 0.0, 0.0, 0.0, 0.0, 0.0, 0.0,...</td>\n",
       "    </tr>\n",
       "    <tr>\n",
       "      <th>4</th>\n",
       "      <td>1</td>\n",
       "      <td>5</td>\n",
       "      <td>[[-1, -1, -1, -1, -1, -1, -1, -1, -1, -1, -1, ...</td>\n",
       "      <td>[(rule_based_agent_0, 0, False, (15, 2)), (rul...</td>\n",
       "      <td>[((1, 14), 1), ((1, 2), 1), ((15, 14), 1), ((1...</td>\n",
       "      <td>[]</td>\n",
       "      <td>[[0.0, 0.0, 0.0, 0.0, 0.0, 0.0, 0.0, 0.0, 0.0,...</td>\n",
       "    </tr>\n",
       "    <tr>\n",
       "      <th>5</th>\n",
       "      <td>1</td>\n",
       "      <td>6</td>\n",
       "      <td>[[-1, -1, -1, -1, -1, -1, -1, -1, -1, -1, -1, ...</td>\n",
       "      <td>[(rule_based_agent_0, 0, False, (15, 3)), (rul...</td>\n",
       "      <td>[((1, 14), 0), ((1, 2), 0), ((15, 14), 0), ((1...</td>\n",
       "      <td>[]</td>\n",
       "      <td>[[0.0, 0.0, 0.0, 0.0, 0.0, 0.0, 0.0, 0.0, 0.0,...</td>\n",
       "    </tr>\n",
       "    <tr>\n",
       "      <th>6</th>\n",
       "      <td>1</td>\n",
       "      <td>7</td>\n",
       "      <td>[[-1, -1, -1, -1, -1, -1, -1, -1, -1, -1, -1, ...</td>\n",
       "      <td>[(rule_based_agent_0, 0, False, (15, 2)), (rul...</td>\n",
       "      <td>[]</td>\n",
       "      <td>[(13, 1)]</td>\n",
       "      <td>[[0.0, 0.0, 0.0, 0.0, 0.0, 0.0, 0.0, 0.0, 0.0,...</td>\n",
       "    </tr>\n",
       "    <tr>\n",
       "      <th>7</th>\n",
       "      <td>1</td>\n",
       "      <td>8</td>\n",
       "      <td>[[-1, -1, -1, -1, -1, -1, -1, -1, -1, -1, -1, ...</td>\n",
       "      <td>[(rule_based_agent_0, 0, False, (15, 3)), (rul...</td>\n",
       "      <td>[]</td>\n",
       "      <td>[(13, 1)]</td>\n",
       "      <td>[[0.0, 0.0, 0.0, 0.0, 0.0, 0.0, 0.0, 0.0, 0.0,...</td>\n",
       "    </tr>\n",
       "    <tr>\n",
       "      <th>8</th>\n",
       "      <td>1</td>\n",
       "      <td>9</td>\n",
       "      <td>[[-1, -1, -1, -1, -1, -1, -1, -1, -1, -1, -1, ...</td>\n",
       "      <td>[(rule_based_agent_0, 0, True, (14, 3)), (rule...</td>\n",
       "      <td>[]</td>\n",
       "      <td>[(13, 1)]</td>\n",
       "      <td>[[0.0, 0.0, 0.0, 0.0, 0.0, 0.0, 0.0, 0.0, 0.0,...</td>\n",
       "    </tr>\n",
       "    <tr>\n",
       "      <th>9</th>\n",
       "      <td>1</td>\n",
       "      <td>10</td>\n",
       "      <td>[[-1, -1, -1, -1, -1, -1, -1, -1, -1, -1, -1, ...</td>\n",
       "      <td>[(rule_based_agent_0, 0, False, (14, 3)), (rul...</td>\n",
       "      <td>[((14, 3), 3)]</td>\n",
       "      <td>[(13, 1)]</td>\n",
       "      <td>[[0.0, 0.0, 0.0, 0.0, 0.0, 0.0, 0.0, 0.0, 0.0,...</td>\n",
       "    </tr>\n",
       "  </tbody>\n",
       "</table>\n",
       "</div>"
      ],
      "text/plain": [
       "   round  step                                              field  \\\n",
       "0      1     1  [[-1, -1, -1, -1, -1, -1, -1, -1, -1, -1, -1, ...   \n",
       "1      1     2  [[-1, -1, -1, -1, -1, -1, -1, -1, -1, -1, -1, ...   \n",
       "2      1     3  [[-1, -1, -1, -1, -1, -1, -1, -1, -1, -1, -1, ...   \n",
       "3      1     4  [[-1, -1, -1, -1, -1, -1, -1, -1, -1, -1, -1, ...   \n",
       "4      1     5  [[-1, -1, -1, -1, -1, -1, -1, -1, -1, -1, -1, ...   \n",
       "5      1     6  [[-1, -1, -1, -1, -1, -1, -1, -1, -1, -1, -1, ...   \n",
       "6      1     7  [[-1, -1, -1, -1, -1, -1, -1, -1, -1, -1, -1, ...   \n",
       "7      1     8  [[-1, -1, -1, -1, -1, -1, -1, -1, -1, -1, -1, ...   \n",
       "8      1     9  [[-1, -1, -1, -1, -1, -1, -1, -1, -1, -1, -1, ...   \n",
       "9      1    10  [[-1, -1, -1, -1, -1, -1, -1, -1, -1, -1, -1, ...   \n",
       "\n",
       "                                              agents  \\\n",
       "0  [(rule_based_agent_0, 0, True, (15, 1)), (rule...   \n",
       "1  [(rule_based_agent_0, 0, True, (14, 1)), (rule...   \n",
       "2  [(rule_based_agent_0, 0, False, (14, 1)), (rul...   \n",
       "3  [(rule_based_agent_0, 0, False, (15, 1)), (rul...   \n",
       "4  [(rule_based_agent_0, 0, False, (15, 2)), (rul...   \n",
       "5  [(rule_based_agent_0, 0, False, (15, 3)), (rul...   \n",
       "6  [(rule_based_agent_0, 0, False, (15, 2)), (rul...   \n",
       "7  [(rule_based_agent_0, 0, False, (15, 3)), (rul...   \n",
       "8  [(rule_based_agent_0, 0, True, (14, 3)), (rule...   \n",
       "9  [(rule_based_agent_0, 0, False, (14, 3)), (rul...   \n",
       "\n",
       "                                               bombs      coins  \\\n",
       "0                                                 []         []   \n",
       "1                                                 []         []   \n",
       "2  [((1, 14), 3), ((1, 2), 3), ((15, 14), 3), ((1...         []   \n",
       "3  [((1, 14), 2), ((1, 2), 2), ((15, 14), 2), ((1...         []   \n",
       "4  [((1, 14), 1), ((1, 2), 1), ((15, 14), 1), ((1...         []   \n",
       "5  [((1, 14), 0), ((1, 2), 0), ((15, 14), 0), ((1...         []   \n",
       "6                                                 []  [(13, 1)]   \n",
       "7                                                 []  [(13, 1)]   \n",
       "8                                                 []  [(13, 1)]   \n",
       "9                                     [((14, 3), 3)]  [(13, 1)]   \n",
       "\n",
       "                                       explosion_map  \n",
       "0  [[0.0, 0.0, 0.0, 0.0, 0.0, 0.0, 0.0, 0.0, 0.0,...  \n",
       "1  [[0.0, 0.0, 0.0, 0.0, 0.0, 0.0, 0.0, 0.0, 0.0,...  \n",
       "2  [[0.0, 0.0, 0.0, 0.0, 0.0, 0.0, 0.0, 0.0, 0.0,...  \n",
       "3  [[0.0, 0.0, 0.0, 0.0, 0.0, 0.0, 0.0, 0.0, 0.0,...  \n",
       "4  [[0.0, 0.0, 0.0, 0.0, 0.0, 0.0, 0.0, 0.0, 0.0,...  \n",
       "5  [[0.0, 0.0, 0.0, 0.0, 0.0, 0.0, 0.0, 0.0, 0.0,...  \n",
       "6  [[0.0, 0.0, 0.0, 0.0, 0.0, 0.0, 0.0, 0.0, 0.0,...  \n",
       "7  [[0.0, 0.0, 0.0, 0.0, 0.0, 0.0, 0.0, 0.0, 0.0,...  \n",
       "8  [[0.0, 0.0, 0.0, 0.0, 0.0, 0.0, 0.0, 0.0, 0.0,...  \n",
       "9  [[0.0, 0.0, 0.0, 0.0, 0.0, 0.0, 0.0, 0.0, 0.0,...  "
      ]
     },
     "execution_count": 62,
     "metadata": {},
     "output_type": "execute_result"
    }
   ],
   "source": [
    "import pandas as pd\n",
    "import numpy as np\n",
    "file = 'round1.pkl'\n",
    "data = pd.read_pickle(file)\n",
    "print(data.columns)\n",
    "data.head(10)"
   ]
  },
  {
   "cell_type": "code",
   "execution_count": 65,
   "metadata": {},
   "outputs": [],
   "source": [
    "def get_blast_coords(x, y, field, power=3):\n",
    "        blast_coords = [(x, y)]\n",
    "\n",
    "        for i in range(1, power + 1):\n",
    "            if field[x + i, y] == -1:\n",
    "                break\n",
    "            blast_coords.append((x + i, y))\n",
    "        for i in range(1, power + 1):\n",
    "            if field[x - i, y] == -1:\n",
    "                break\n",
    "            blast_coords.append((x - i, y))\n",
    "        for i in range(1, power + 1):\n",
    "            if field[x, y + i] == -1:\n",
    "                break\n",
    "            blast_coords.append((x, y + i))\n",
    "        for i in range(1, power + 1):\n",
    "            if field[x, y - i] == -1:\n",
    "                break\n",
    "            blast_coords.append((x, y - i))\n",
    "\n",
    "        return blast_coords"
   ]
  },
  {
   "cell_type": "code",
   "execution_count": null,
   "metadata": {},
   "outputs": [],
   "source": []
  },
  {
   "cell_type": "code",
   "execution_count": 75,
   "metadata": {},
   "outputs": [
    {
     "data": {
      "text/plain": [
       "[(15, 15), (14, 15), (13, 15), (12, 15), (15, 14), (15, 13), (15, 12)]"
      ]
     },
     "execution_count": 75,
     "metadata": {},
     "output_type": "execute_result"
    }
   ],
   "source": []
  },
  {
   "cell_type": "code",
   "execution_count": 125,
   "metadata": {},
   "outputs": [
    {
     "name": "stdout",
     "output_type": "stream",
     "text": [
      "[((1, 14), 2), ((1, 2), 2), ((15, 14), 2), ((14, 1), 2)]\n",
      "14 4\n",
      "2 4\n",
      "28 4\n",
      "14 4\n",
      "operations: 29 path length: 14\n",
      "+-----------------+\n",
      "|#################|\n",
      "|#s####          #|\n",
      "|#x# # # # # # # #|\n",
      "|#xxxxxxxxxxxe   #|\n",
      "|# # # # # # # # #|\n",
      "|#               #|\n",
      "|# # # # # # # # #|\n",
      "|#               #|\n",
      "|# # # # # # # # #|\n",
      "|#               #|\n",
      "|# # # # # # # # #|\n",
      "|#               #|\n",
      "|# # # # # # # # #|\n",
      "|#               #|\n",
      "|# # # # # # # # #|\n",
      "|#               #|\n",
      "|#################|\n",
      "+-----------------+\n"
     ]
    }
   ],
   "source": [
    "from pathfinding.core.grid import Grid\n",
    "from pathfinding.finder.a_star import AStarFinder\n",
    "\n",
    "field = data['field'][3].copy()\n",
    "bombs = data['bombs'][3].copy()\n",
    "print(bombs)\n",
    "\n",
    "field[field==1] = 2\n",
    "field[field==0] = 1\n",
    "\n",
    "grid = Grid(matrix=field)\n",
    "start = grid.node(1, 1)\n",
    "end_bombs = [grid.node(bomb[0][0],bomb[0][1]) for bomb in bombs]\n",
    "\n",
    "\n",
    "finder = AStarFinder()\n",
    "for (end,bomb) in zip(end_bombs, bombs):\n",
    "    path, runs = finder.find_path(start, end, grid)\n",
    "    bomb_timer = bomb[1]\n",
    "    print(len(path),bomb_timer+2)\n",
    "    \n",
    "    if len(path)<=bomb_timer+2:\n",
    "        for pos in get_blast_coords(end.x, end.y,field):\n",
    "            field [pos[0],pos[1]] =-1\n",
    "    grid.cleanup()\n",
    "\n",
    "#print(field.T[::-1])\n",
    "grid = Grid(matrix=field)\n",
    "start = grid.node(1, 1)\n",
    "end = grid.node(12,3)\n",
    "\n",
    "finder = AStarFinder()\n",
    "\n",
    "path, runs = finder.find_path(start, end, grid)\n",
    "print('operations:', runs, 'path length:', len(path))\n",
    "print(grid.grid_str(path=path, start=start, end=end))"
   ]
  },
  {
   "cell_type": "code",
   "execution_count": 26,
   "metadata": {},
   "outputs": [
    {
     "name": "stdout",
     "output_type": "stream",
     "text": [
      "0\n",
      "[[0. 0. 0. 0. 0. 0. 0. 0. 0. 0. 0. 0. 0. 0. 0. 0. 0.]\n",
      " [0. 0. 0. 0. 0. 0. 0. 0. 0. 0. 0. 0. 0. 0. 0. 0. 0.]\n",
      " [0. 0. 0. 0. 0. 0. 0. 0. 0. 0. 0. 0. 0. 0. 0. 0. 0.]\n",
      " [0. 0. 0. 0. 0. 0. 0. 0. 0. 0. 0. 0. 0. 0. 0. 0. 0.]\n",
      " [0. 0. 0. 0. 0. 0. 0. 0. 0. 0. 0. 0. 0. 0. 0. 0. 0.]\n",
      " [0. 0. 0. 0. 0. 0. 0. 0. 0. 0. 0. 0. 0. 0. 0. 0. 0.]\n",
      " [0. 0. 0. 0. 0. 0. 0. 0. 0. 0. 0. 0. 0. 0. 0. 0. 0.]\n",
      " [0. 0. 0. 0. 0. 0. 0. 0. 0. 0. 0. 0. 0. 0. 0. 0. 0.]\n",
      " [0. 0. 0. 0. 0. 0. 0. 0. 0. 0. 0. 0. 0. 0. 0. 0. 0.]\n",
      " [0. 0. 0. 0. 0. 0. 0. 0. 0. 0. 0. 0. 0. 0. 0. 0. 0.]\n",
      " [0. 0. 0. 0. 0. 0. 0. 0. 0. 0. 0. 0. 0. 0. 0. 0. 0.]\n",
      " [0. 0. 0. 0. 0. 0. 0. 0. 0. 0. 0. 0. 0. 0. 0. 0. 0.]\n",
      " [0. 0. 0. 0. 0. 0. 0. 0. 0. 0. 0. 0. 0. 0. 0. 0. 0.]\n",
      " [0. 0. 0. 0. 0. 0. 0. 0. 0. 0. 0. 0. 0. 0. 0. 0. 0.]\n",
      " [0. 0. 0. 0. 0. 0. 0. 0. 0. 0. 0. 0. 0. 0. 0. 0. 0.]\n",
      " [0. 0. 0. 0. 0. 0. 0. 0. 0. 0. 0. 0. 0. 0. 0. 0. 0.]\n",
      " [0. 0. 0. 0. 0. 0. 0. 0. 0. 0. 0. 0. 0. 0. 0. 0. 0.]]\n",
      "[]\n",
      "('rule_based_agent_0', 1, False, (13, 9))\n",
      "(13, 9)\n"
     ]
    }
   ],
   "source": [
    "for i, row in enumerate(data):\n",
    "    i = 50\n",
    "    agents = data.iloc[i]['agents']\n",
    "    bombs = data.iloc[i]['bombs']\n",
    "    coins = data.iloc[i]['coins']\n",
    "    number_expl_map = np.count_nonzero(data.iloc[i]['explosion_map'])\n",
    "    explosions = np.transpose(np.nonzero(data.iloc[i]['explosion_map']))\n",
    "    \n",
    "    for agent in agents:\n",
    "        print(agent)\n",
    "        pos_agent = agent[3]\n",
    "        print(pos_agent)\n",
    "        break\n",
    "    break"
   ]
  }
 ],
 "metadata": {
  "kernelspec": {
   "display_name": "base",
   "language": "python",
   "name": "python3"
  },
  "language_info": {
   "codemirror_mode": {
    "name": "ipython",
    "version": 3
   },
   "file_extension": ".py",
   "mimetype": "text/x-python",
   "name": "python",
   "nbconvert_exporter": "python",
   "pygments_lexer": "ipython3",
   "version": "3.9.13"
  },
  "orig_nbformat": 4
 },
 "nbformat": 4,
 "nbformat_minor": 2
}
