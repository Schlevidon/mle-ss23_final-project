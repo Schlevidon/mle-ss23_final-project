{
 "cells": [
  {
   "cell_type": "code",
   "execution_count": 1,
   "metadata": {},
   "outputs": [
    {
     "name": "stdout",
     "output_type": "stream",
     "text": [
      "Round: 1\n"
     ]
    },
    {
     "name": "stderr",
     "output_type": "stream",
     "text": [
      "100%|██████████| 500/500 [06:56<00:00,  1.20it/s]\n",
      "100%|██████████| 500/500 [23:03<00:00,  2.77s/it]\n",
      "100%|██████████| 500/500 [02:32<00:00,  3.28it/s]\n",
      "100%|██████████| 500/500 [05:50<00:00,  1.43it/s]\n",
      "100%|██████████| 500/500 [21:46<00:00,  2.61s/it]\n",
      "100%|██████████| 500/500 [03:20<00:00,  2.50it/s]\n",
      "100%|██████████| 500/500 [1:04:54<00:00,  7.79s/it]\n",
      "100%|██████████| 500/500 [1:33:23<00:00, 11.21s/it]\n",
      "100%|██████████| 500/500 [1:26:39<00:00, 10.40s/it]  \n"
     ]
    },
    {
     "name": "stdout",
     "output_type": "stream",
     "text": [
      "Round: 2\n"
     ]
    },
    {
     "name": "stderr",
     "output_type": "stream",
     "text": [
      "100%|██████████| 500/500 [05:39<00:00,  1.47it/s]\n",
      "100%|██████████| 500/500 [21:19<00:00,  2.56s/it]\n",
      "100%|██████████| 500/500 [02:33<00:00,  3.25it/s]\n",
      "100%|██████████| 500/500 [05:58<00:00,  1.40it/s]\n",
      "100%|██████████| 500/500 [20:20<00:00,  2.44s/it]\n",
      "100%|██████████| 500/500 [03:05<00:00,  2.70it/s]\n",
      "100%|██████████| 500/500 [26:53<00:00,  3.23s/it]\n",
      "100%|██████████| 500/500 [24:23<00:00,  2.93s/it]\n",
      "100%|██████████| 500/500 [26:44<00:00,  3.21s/it]\n"
     ]
    },
    {
     "name": "stdout",
     "output_type": "stream",
     "text": [
      "Round: 3\n"
     ]
    },
    {
     "name": "stderr",
     "output_type": "stream",
     "text": [
      "100%|██████████| 500/500 [05:34<00:00,  1.49it/s]\n",
      " 70%|██████▉   | 348/500 [16:08<09:37,  3.80s/it]"
     ]
    }
   ],
   "source": [
    "i = 1\n",
    "while True:\n",
    "    print(f'Round: {i}')\n",
    "    #if i!=1:\n",
    "    %run  main.py play --agents n_step_sarsa_agent no_movement_agent --train 1 --n-rounds 500 --scenario coin5 --no-gui\n",
    "    %run  main.py play --agents n_step_sarsa_agent no_movement_agent --train 1 --n-rounds 500 --scenario crates --no-gui\n",
    "    %run  main.py play --agents n_step_sarsa_agent no_movement_agent --train 1 --n-rounds 500 --scenario empty --no-gui\n",
    "\n",
    "    %run  main.py play --agents n_step_sarsa_agent peaceful_agent --train 1 --n-rounds 500 --scenario coin5 --no-gui\n",
    "    %run  main.py play --agents n_step_sarsa_agent peaceful_agent --train 1 --n-rounds 500 --scenario crates --no-gui\n",
    "    %run  main.py play --agents n_step_sarsa_agent peaceful_agent --train 1 --n-rounds 500 --scenario empty --no-gui\n",
    "\n",
    "    %run  main.py play --agents n_step_sarsa_agent rule_based_agent --train 1 --n-rounds 500 --scenario coin5 --no-gui\n",
    "    %run  main.py play --agents n_step_sarsa_agent rule_based_agent --train 1 --n-rounds 500 --scenario crates --no-gui\n",
    "    %run  main.py play --agents n_step_sarsa_agent rule_based_agent --train 1 --n-rounds 500 --scenario empty --no-gui\n",
    "\n",
    "    i+=1"
   ]
  }
 ],
 "metadata": {
  "kernelspec": {
   "display_name": "base",
   "language": "python",
   "name": "python3"
  },
  "language_info": {
   "codemirror_mode": {
    "name": "ipython",
    "version": 3
   },
   "file_extension": ".py",
   "mimetype": "text/x-python",
   "name": "python",
   "nbconvert_exporter": "python",
   "pygments_lexer": "ipython3",
   "version": "3.9.13"
  },
  "orig_nbformat": 4
 },
 "nbformat": 4,
 "nbformat_minor": 2
}
